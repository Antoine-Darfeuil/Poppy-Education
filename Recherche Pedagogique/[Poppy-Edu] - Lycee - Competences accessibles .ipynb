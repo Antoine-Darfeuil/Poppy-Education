{
 "cells": [
  {
   "cell_type": "markdown",
   "metadata": {},
   "source": [
    "<img src=\"Poppy-edu-logo.png\" alt=\"Logo_poppy_edu\" style=\"height: 150px;\"/>\n",
    "\n",
    "<br />\n",
    "<h1 style=\"text-align:center\"> - Lycée et post-Bac - </h1>\n",
    "<br />\n",
    "\n",
    "--- \n",
    "<br />\n",
    "\n"
   ]
  },
  {
   "cell_type": "markdown",
   "metadata": {},
   "source": [
    "<p style=\"color:red\"> **Objectif : ** Créer un arbre des compétences _(?)_ </p>"
   ]
  },
  {
   "cell_type": "markdown",
   "metadata": {},
   "source": [
    "# Compétences accessibles avec Poppy au niveau lycée et début supérieur\n",
    "\n",
    "\n",
    "### Informatique et Science du numérique\n",
    "### Programmation :\n",
    "\n",
    "* **Concept de base de la programmation :** affectation de variables, les tests, les bloucles (_for_, _while_), ... <br />\n",
    "Tous les petits programmes accessibles aux lycèens sont faisable en Snap!. <br />\n",
    "Possibilité de programmer Poppy en Python. <br />\n",
    "\n",
    "\n",
    "* **La recursivité** : \n",
    "\n",
    "\n",
    "\n",
    "\n",
    "\n",
    "### Mathématiques appliquées\n",
    "## Algorithmique\n"
   ]
  },
  {
   "cell_type": "markdown",
   "metadata": {},
   "source": [
    "\n",
    "### Supérieur :\n",
    "* Ecoles d'ingénieurs généraliste orienté en mécanique et productique \n",
    "* Ecoles d'ingénieurs post-bac\n",
    "\n",
    "### Lycée :\n",
    "* BAC techniques (filière STI2D, ...)\n",
    "* BAC généraux (série scientifique option SI, terminale ISN, ...)\n",
    "\n",
    "### Collège : \n",
    "* "
   ]
  }
 ],
 "metadata": {
  "kernelspec": {
   "display_name": "Python 2",
   "language": "python",
   "name": "python2"
  },
  "language_info": {
   "codemirror_mode": {
    "name": "ipython",
    "version": 2
   },
   "file_extension": ".py",
   "mimetype": "text/x-python",
   "name": "python",
   "nbconvert_exporter": "python",
   "pygments_lexer": "ipython2",
   "version": "2.7.9"
  }
 },
 "nbformat": 4,
 "nbformat_minor": 0
}
