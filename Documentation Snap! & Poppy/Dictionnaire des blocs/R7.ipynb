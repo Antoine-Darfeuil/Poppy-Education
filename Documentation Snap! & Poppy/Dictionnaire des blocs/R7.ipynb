{
 "cells": [
  {
   "cell_type": "markdown",
   "metadata": {
    "collapsed": true
   },
   "source": [
    "### R7 : Retourne le liste de toutes les primitives (ou toutes les primitives actives)\n",
    "**_Help :_** _void_\n",
    "\n",
    "** _Aide :_ ** \n",
    "Retourne la listes de toutes les primitives disponibles ou de toutes les primitives en cours d'excution."
   ]
  },
  {
   "cell_type": "code",
   "execution_count": null,
   "metadata": {
    "collapsed": true
   },
   "outputs": [],
   "source": []
  }
 ],
 "metadata": {
  "kernelspec": {
   "display_name": "Python 2",
   "language": "python",
   "name": "python2"
  },
  "language_info": {
   "codemirror_mode": {
    "name": "ipython",
    "version": 2
   },
   "file_extension": ".py",
   "mimetype": "text/x-python",
   "name": "python",
   "nbconvert_exporter": "python",
   "pygments_lexer": "ipython2",
   "version": "2.7.9"
  }
 },
 "nbformat": 4,
 "nbformat_minor": 0
}
