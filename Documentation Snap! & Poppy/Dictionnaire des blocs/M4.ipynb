{
 "cells": [
  {
   "cell_type": "markdown",
   "metadata": {
    "collapsed": true
   },
   "source": [
    "### M4 : Permet de jouer séquentiellement (à la suite) les mouvements enregistrés données\n",
    "<img src=\"image/Dico/sequential.png\" alt=\"M2\" style=\"height: 20px;\"/>\n",
    "**_Help :_** _void_\n",
    "\n",
    "\n",
    "** _Aide :_ ** \n",
    "Ce bloc permet de jouer séquentiellement (à la suite) plusieurs enregistrements de mouvements données en entrée."
   ]
  },
  {
   "cell_type": "code",
   "execution_count": null,
   "metadata": {
    "collapsed": true
   },
   "outputs": [],
   "source": []
  }
 ],
 "metadata": {
  "kernelspec": {
   "display_name": "Python 2",
   "language": "python",
   "name": "python2"
  },
  "language_info": {
   "codemirror_mode": {
    "name": "ipython",
    "version": 2
   },
   "file_extension": ".py",
   "mimetype": "text/x-python",
   "name": "python",
   "nbconvert_exporter": "python",
   "pygments_lexer": "ipython2",
   "version": "2.7.9"
  }
 },
 "nbformat": 4,
 "nbformat_minor": 0
}
