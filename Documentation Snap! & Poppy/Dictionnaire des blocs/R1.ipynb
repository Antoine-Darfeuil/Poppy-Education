{
 "cells": [
  {
   "cell_type": "markdown",
   "metadata": {
    "collapsed": true
   },
   "source": [
    "### R10 :  Tester la connexion avec v-rep ou Poppy\n",
    "\n",
    "**Help :** \n",
    "Report one of the following messages :\n",
    "* Connection ok! \n",
    "* You may have connection troubles. Check the host variable\n",
    "\n",
    "\n",
    "**Aide :** \n",
    "Permet de tester l’état de la connexion snap! avec le _simulateur v-rep_ ou le _robot Poppy_. Renvoie le message “Connection ok!” si la connection est correctement établie."
   ]
  }
 ],
 "metadata": {
  "kernelspec": {
   "display_name": "Python 2",
   "language": "python",
   "name": "python2"
  },
  "language_info": {
   "codemirror_mode": {
    "name": "ipython",
    "version": 2
   },
   "file_extension": ".py",
   "mimetype": "text/x-python",
   "name": "python",
   "nbconvert_exporter": "python",
   "pygments_lexer": "ipython2",
   "version": "2.7.9"
  }
 },
 "nbformat": 4,
 "nbformat_minor": 0
}
