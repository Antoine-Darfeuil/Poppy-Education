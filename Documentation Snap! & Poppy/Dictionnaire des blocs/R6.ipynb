{
 "cells": [
  {
   "cell_type": "markdown",
   "metadata": {
    "collapsed": true
   },
   "source": [
    "### R6 : Retourne la valeur du registre demandé sur moteur donné\n",
    "\n",
    "**_Help :_**\n",
    "Get a defined < register > < value > of one motor. <br />\n",
    "Exemple of some registers : torque_limit, angle_limit, present_temperature, present_position ...<br />\n",
    "For more information about registers, look at the online documentation : [pypot documentation](http://poppy-project.github.io/pypot/)\n",
    "\n",
    "** _Aide :_ ** \n",
    "Renvoie la valeur du registre demandé sur le moteur donné.<br/>\n",
    "Exemple de registres disponibles : torque_limit (limite du couple), present_temperature (temperature actuelle), present_position (position actuelle), ...\n",
    "Pour plus d'information sur les registre, confère la documentation en ligne : [pypot documentation](http://poppy-project.github.io/pypot/)"
   ]
  },
  {
   "cell_type": "code",
   "execution_count": null,
   "metadata": {
    "collapsed": true
   },
   "outputs": [],
   "source": []
  }
 ],
 "metadata": {
  "kernelspec": {
   "display_name": "Python 2",
   "language": "python",
   "name": "python2"
  },
  "language_info": {
   "codemirror_mode": {
    "name": "ipython",
    "version": 2
   },
   "file_extension": ".py",
   "mimetype": "text/x-python",
   "name": "python",
   "nbconvert_exporter": "python",
   "pygments_lexer": "ipython2",
   "version": "2.7.9"
  }
 },
 "nbformat": 4,
 "nbformat_minor": 0
}
