{
 "cells": [
  {
   "cell_type": "markdown",
   "metadata": {
    "collapsed": true
   },
   "source": [
    "### R3 : Retourne la liste de tous les alias\n",
    "**_Help :_**\n",
    "Return a list of all aliases. <br /> Alias is a keyword for representing many motors at once.\n",
    "\n",
    "** _Aide :_ ** \n",
    "Renvoie la liste de tous les alias existants. <br/>\n",
    "Les \"alias\" sont des mots-clefs reunissant plusieurs moteurs sous un même terme.<br/>\n",
    "Exemple : sur Poppy Torso, l'alias \"r_arm\" réunis les moteurs r_elbow_y, r_arm_z, r_shoulder_x et r_shoulder_y ; soit tous les moteurs du bras droit. De même, \"l_arm\" désigne tous les moteurs du bras gauche et l'alias \"arm\", tous les moteurs des deux bras.\n"
   ]
  },
  {
   "cell_type": "code",
   "execution_count": null,
   "metadata": {
    "collapsed": true
   },
   "outputs": [],
   "source": []
  }
 ],
 "metadata": {
  "kernelspec": {
   "display_name": "Python 2",
   "language": "python",
   "name": "python2"
  },
  "language_info": {
   "codemirror_mode": {
    "name": "ipython",
    "version": 2
   },
   "file_extension": ".py",
   "mimetype": "text/x-python",
   "name": "python",
   "nbconvert_exporter": "python",
   "pygments_lexer": "ipython2",
   "version": "2.7.9"
  }
 },
 "nbformat": 4,
 "nbformat_minor": 0
}
