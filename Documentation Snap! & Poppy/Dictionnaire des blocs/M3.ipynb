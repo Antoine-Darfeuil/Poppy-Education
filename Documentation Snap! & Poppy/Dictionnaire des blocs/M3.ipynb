{
 "cells": [
  {
   "cell_type": "markdown",
   "metadata": {
    "collapsed": true
   },
   "source": [
    "### M3 : Joue le mouvement entré en sens inverse à la vitesse donnée\n",
    "<img src=\"image/Dico/play-in-reverse-move-speed.png\" alt=\"M6\" style=\"height: 20px;\"/>\n",
    "\n",
    "**_Help :_** Play in reverse the movement of a previous recorded move.<br />\n",
    "The < record_name > input is the name of a *.record* filename which should be in the same directory where you started the web server (with the command \"robot-snap robot-ergo\" for example).\n",
    "\n",
    "You can change the play speed with the < speed > input.\n",
    "\n",
    "\n",
    "\n",
    "** _Aide :_ ** \n",
    "Permet de jouer en sens inverse un mouvement préalablement enregistré à la vistesse spécifié via l'entrée < speed >.<br/>\n",
    "Le nom de l'enregistrement que l'on souhaite jouer est celui d'un fichier .record qui doit être placé dans le même repertoire que celui ou le serveur web a été initié."
   ]
  }
 ],
 "metadata": {
  "kernelspec": {
   "display_name": "Python 2",
   "language": "python",
   "name": "python2"
  },
  "language_info": {
   "codemirror_mode": {
    "name": "ipython",
    "version": 2
   },
   "file_extension": ".py",
   "mimetype": "text/x-python",
   "name": "python",
   "nbconvert_exporter": "python",
   "pygments_lexer": "ipython2",
   "version": "2.7.9"
  }
 },
 "nbformat": 4,
 "nbformat_minor": 0
}
