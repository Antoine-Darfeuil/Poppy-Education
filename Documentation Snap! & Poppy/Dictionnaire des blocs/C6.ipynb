{
 "cells": [
  {
   "cell_type": "markdown",
   "metadata": {
    "collapsed": true
   },
   "source": [
    "### C6 : Creér un nouveau mouvement avec le(s) moteur(s) donné(s)  \n",
    "<img src=\"image/Dico/creat-move-with-motor.png\" alt=\"Blablabla\" style=\"height: 25px;\"/>\n",
    "\n",
    "---\n",
    "**_Help :_**\n",
    "Define a move record with the desired motors.<br />\n",
    "The < record_name > input is used to store the record move. The move is stores in the directory where you started the web server (with the command \"robot-snap robot-ergo\" for example), and can be replayed even if you close Snap!.\n",
    "\n",
    "The motor(s) input can accept : \n",
    "- string of motor name\n",
    "- string of many motores separed with spaces\n",
    "- a snap! lis of motors like the reporter block “robot all motors”\n",
    "\n",
    "If the motor(s) input is empty, all motors will be recorded.\n",
    "\n",
    "---\n",
    "** _Aide :_ ** \n",
    "Définie un nouvel enristrement de mouvement par démonstration avec les moteurs désignés.<br/>\n",
    "L'entrée <record_name> (nom de l'enregistrement) permet de définir le nom de ce nouvel enregistrement.<br/>\n",
    "L'enristrement est alors enrsgistré dans le répertoire où le server web à été initié et peux être retrouvé et rejouer via son nom même après la fermeture de Snap!."
   ]
  }
 ],
 "metadata": {
  "kernelspec": {
   "display_name": "Python 2",
   "language": "python",
   "name": "python2"
  },
  "language_info": {
   "codemirror_mode": {
    "name": "ipython",
    "version": 2
   },
   "file_extension": ".py",
   "mimetype": "text/x-python",
   "name": "python",
   "nbconvert_exporter": "python",
   "pygments_lexer": "ipython2",
   "version": "2.7.9"
  }
 },
 "nbformat": 4,
 "nbformat_minor": 0
}
