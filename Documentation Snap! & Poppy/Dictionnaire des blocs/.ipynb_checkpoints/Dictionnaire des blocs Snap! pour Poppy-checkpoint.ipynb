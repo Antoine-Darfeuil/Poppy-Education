{
 "cells": [
  {
   "cell_type": "markdown",
   "metadata": {
    "collapsed": true
   },
   "source": [
    "# Dictionnaire des blocs _robot Poppy_\n",
    "\n",
    "---\n",
    "### Les blocs de type *Reporters* : \n",
    "\n",
    "Code | BlocSnap! _robot poppy_ | Fonction :\n",
    "----------|----------\n",
    "R1|<a href=\"R1.ipynb\" title=\"Voir détails\"><img src=\"image/Dico/test-connection.png\" alt=\"R1\" style=\"height: 15px;\"/></a>|Teste la connexion avec v-rep ou Poppy réel\n",
    "R2|<a href=\"R2.ipynb\" title=\"Voir détails\"><img src=\"image/Dico/all-motors.png\" alt=\"R2\" style=\"height: 15px;\"/></a>|Retourne la liste de tous les moteurs\n",
    "R3|<a href=\"R3.ipynb\" title=\"Voir détails\"><img src=\"image/Dico/all-aliases.png\" alt=\"R3\" style=\"height: 15px;\"/></a>|Retourne la liste de tous les alias <sup>1</sup>\n",
    "R4|<a href=\"R4.ipynb\" title=\"Voir détails\"><img src=\"image/Dico/motors-from-alias.png\" alt=\"R4\" style=\"height: 15x;\"/></a>|Retourne la liste des motors correspondant à l'alias donné\n",
    "R5|<a href=\"R5.ipynb\" title=\"Voir détails\"><img src=\"image/Dico/get-motor-present-position.png\" alt=\"R5\" style=\"height: 15x;\"/></a>|Retourne la valeur _(en degrée)_ de la position _(angle)_ du moteur donné\n",
    "R6|<a href=\"R6.ipynb\" title=\"Voir détails\"><img src=\"image/Dico/get-motor-register.png\" alt=\"R6\" style=\"height: 15x;\"/></a>|Retourne la valeur du registre <sup>2</sup> demandé sur moteur donné \n",
    "R7|<a href=\"R7.ipynb\" title=\"Voir détails\"><img src=\"image/Dico/get-all-primitives.png\" alt=\"R7\" style=\"height: 15px;\"/></a>|Retourne le liste de toutes les primitives\n",
    "R8|<a href=\"R8.ipynb\" title=\"Voir détails\"><img src=\"image/Dico/get-methodes-of-primitive.png\" alt=\"R8\" style=\"height: 15px;\"/></a>|Retourne méthodes/propriètées de la primitive demandé\n",
    "R9|<a href=\"R9.ipynb\" title=\"Voir détails\"><img src=\"image/Dico/index-of-motor.png\" alt=\"R9\" style=\"height: 15x;\"/></a>|Retourne l'indexe <sup>3</sup> du moteur donné\n",
    "R10|<a href=\"R10.ipynb\" title=\"Voir détails\"><img src=\"image/Dico/server.png\" alt=\"R10\" style=\"height: 15x;\"/></a>| ????????\n",
    "M1|<a href=\"M1.ipynb\" title=\"Voir détails\"><img src=\"image/Dico/all-records.png\" alt=\"M1\" style=\"height: 15x;\"/></a>|Retourne la liste de tous les mouvements enregistrés dans la mémoire du robot\n",
    "M2|<a href=\"M2.ipynb\" title=\"Voir détails\"><img src=\"image/Dico/play-move-speed.png\" alt=\"M2\" style=\"height: 15px;\"/></a>|Joue le mouvement entré à la vitesse donnée\n",
    "M3|<a href=\"M3.ipynb\" title=\"Voir détails\"><img src=\"image/Dico/play-in-reverse-move-speed.png\" alt=\"M3\" style=\"height: 15px;\"/></a>|Joue le mouvement entré **en sens inverse** à la vitesse donnée\n",
    "M4|<a href=\"M4.ipynb\" title=\"Voir détails\"><img src=\"image/Dico/sequential.png\" alt=\"M4\" style=\"height: 15px;\"/></a>| Permet de jouer séquentiellement (à la suite) les mouvements enregistrés données\n",
    "M5|<a href=\"M5.ipynb\" title=\"Voir détails\"><img src=\"image/Dico/concurent.png\" alt=\"M5\" style=\"height: 15px;\"/></a>| Permet de jouer concurremment (en même temps) les mouvements enregistrés donnés\n",
    "M6|<a href=\"M6.ipynb\" title=\"Voir détails\"><img src=\"image/Dico/play-concurently-moves.png\" alt=\"M6\" style=\"height: 15px;\"/></a>|Permet de jouer séquentiellement (à la suite) les mouvements enregistrés données\n",
    "M7|<a href=\"M7.ipynb\" title=\"Voir détails\"><img src=\"image/Dico/play-sequentialy-moves.png\" alt=\"M7\" style=\"height: 15px;\"/></a>|Permet de jouer concurremment (en même temps) les mouvements enregistrés donnés\n",
    "\n",
    "\n",
    "\n",
    "\n",
    "\n",
    "\n",
    "\n",
    "---\n",
    "### Les blocs de type *Commands* :\n",
    "\n",
    "\n",
    "Code | BlocSnap! _robot poppy_ | Fonction :\n",
    "----------|----------\n",
    "C1|<a href=\"C1.ipynb\" title=\"Voir détails\"><img src=\"image/Dico/reset-simulation.png\" alt=\"C1\" style=\"height: 20px;\"/></a> |_Reset simulation_ : Réinitialiser la simulation sous v-rep <br/> _Reset robot_ : Réinitialiser la connection entre _Poppy_ réel et Snap!\n",
    "C2|<a href=\"C2.ipynb\" title=\"Voir détails\"><img src=\"image/Dico/set-motor-compliant.png\" alt=\"C2\" style=\"height: 20px;\"/></a>|Rendre le ou les moteurs compliant (ou non-compliant)\n",
    "C3|<a href=\"C3.ipynb\" title=\"Voir détails\"><img src=\"image/Dico/motor-go-to-position.png\" alt=\"C3\" style=\"height: 20px;\"/></a>|Mettre le ou les moteurs à la position\n",
    "C4|<a href=\"C4.ipynb\" title=\"Voir détails\"><img src=\"image/Dico/start-primitive.png\" alt=\"C4\" style=\"height: 20px;\"/></a>|Lancer une primitives\n",
    "C5|<a href=\"C5.ipynb\" title=\"Voir détails\"><img src=\"image/Dico/set-motor-register-to.png\" alt=\"C5\" style=\"height: 20px;\"/></a>|Definir le registre du moteur donné\n",
    "C6|<a href=\"C6.ipynb\" title=\"Voir détails\"><img src=\"image/Dico/creat-move-with-motor.png\" alt=\"C6\" style=\"height: 20px;\"/></a>|Creér un nouveau mouvement avec le(s) moteur(s) donné(s) <br /> _(bloc spécifique au mouvement par démonstration)_\n",
    "C7|<a href=\"C7.ipynb\" title=\"Voir détails\"><img src=\"image/Dico/start-record.png\" alt=\"C7\" style=\"height: 20px;\"/></a>|Commencer l'enregistrement d'un mouvement _(bloc spécifique au mouvement par démonstration)_\n",
    "C8|<a href=\"C8.ipynb\" title=\"Voir détails\"><img src=\"image/Dico/stop-record-move.png\" alt=\"C8\" style=\"height: 20px;\"/></a>|Arrêter l'enregistrement du mouvement _(bloc spécifique au mouvement par démonstration)_\n",
    "C9|<a href=\"C9.ipynb\" title=\"Voir détails\"><img src=\"image/Dico/stop-play-move.png\" alt=\"C8\" style=\"height: 20px;\"/></a>|Arrêter de jouer le mouvement en cours _(bloc spécifique au mouvement par démonstration)_\n",
    "\n",
    "\n",
    "\n"
   ]
  }
 ],
 "metadata": {
  "kernelspec": {
   "display_name": "Python 2",
   "language": "python",
   "name": "python2"
  },
  "language_info": {
   "codemirror_mode": {
    "name": "ipython",
    "version": 2
   },
   "file_extension": ".py",
   "mimetype": "text/x-python",
   "name": "python",
   "nbconvert_exporter": "python",
   "pygments_lexer": "ipython2",
   "version": "2.7.9"
  }
 },
 "nbformat": 4,
 "nbformat_minor": 0
}
