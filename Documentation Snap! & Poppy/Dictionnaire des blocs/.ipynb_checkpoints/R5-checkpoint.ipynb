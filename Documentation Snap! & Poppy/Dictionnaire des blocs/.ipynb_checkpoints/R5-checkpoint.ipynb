{
 "cells": [
  {
   "cell_type": "markdown",
   "metadata": {
    "collapsed": true
   },
   "source": [
    "### R5 : Retourne la valeur (en degrée) de la position (angle) du moteur donné\n",
    "\n",
    "**_Help :_**\n",
    "Get the present position (angle) of the defined < motor \\>.\n",
    "\n",
    "\n",
    "** _Aide :_ ** \n",
    "Renvoie la valeur de l'angle de la position du moteur demandé."
   ]
  },
  {
   "cell_type": "code",
   "execution_count": null,
   "metadata": {
    "collapsed": true
   },
   "outputs": [],
   "source": []
  }
 ],
 "metadata": {
  "kernelspec": {
   "display_name": "Python 2",
   "language": "python",
   "name": "python2"
  },
  "language_info": {
   "codemirror_mode": {
    "name": "ipython",
    "version": 2
   },
   "file_extension": ".py",
   "mimetype": "text/x-python",
   "name": "python",
   "nbconvert_exporter": "python",
   "pygments_lexer": "ipython2",
   "version": "2.7.9"
  }
 },
 "nbformat": 4,
 "nbformat_minor": 0
}
