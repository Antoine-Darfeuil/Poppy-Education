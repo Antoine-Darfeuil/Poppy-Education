{
 "cells": [
  {
   "cell_type": "markdown",
   "metadata": {
    "collapsed": true
   },
   "source": [
    "### M7 : Permet de jouer concurremment (en même temps) les mouvements enregistrés donnés\n",
    "<img src=\"image/Dico/play-sequentialy-moves.png\" alt=\"M5\" style=\"height: 20px;\"/>\n",
    "**_Help :_** Play previously recorded moves sequentialy.\n",
    "\n",
    "Inputs can be :\n",
    "* move name (string)\n",
    "* many moves name separated by whitespace\n",
    "* any reporter block like concurent or play concurently\n",
    "\n",
    "** _Aide :_ ** \n",
    "Permet de jouer concurremment (en même temps) plusieurs mouvements préalablement enregistrés.<br/>\n",
    "\n",
    "L'entré de ce bloc peut être :\n",
    "* le nom d'un mouvement (chaine de caractère)\n",
    "* plusiseurs noms de mouvements séparés par un espace\n",
    "* tous bloc reporter comme \"concurent\" ou \"play concurently\""
   ]
  },
  {
   "cell_type": "code",
   "execution_count": null,
   "metadata": {
    "collapsed": true
   },
   "outputs": [],
   "source": []
  }
 ],
 "metadata": {
  "kernelspec": {
   "display_name": "Python 2",
   "language": "python",
   "name": "python2"
  },
  "language_info": {
   "codemirror_mode": {
    "name": "ipython",
    "version": 2
   },
   "file_extension": ".py",
   "mimetype": "text/x-python",
   "name": "python",
   "nbconvert_exporter": "python",
   "pygments_lexer": "ipython2",
   "version": "2.7.9"
  }
 },
 "nbformat": 4,
 "nbformat_minor": 0
}
