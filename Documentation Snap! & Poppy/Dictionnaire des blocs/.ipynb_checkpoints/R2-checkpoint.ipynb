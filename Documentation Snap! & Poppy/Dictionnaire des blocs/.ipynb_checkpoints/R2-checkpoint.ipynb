{
 "cells": [
  {
   "cell_type": "markdown",
   "metadata": {
    "collapsed": true
   },
   "source": [
    "### R2 : Retourne la liste de tous les moteurs\n",
    "**_Help :_**\n",
    "Return a list of all available motors.\n",
    "\n",
    "** _Aide :_ ** \n",
    "Renvoie la liste de tous les moteurs disponibles."
   ]
  }
 ],
 "metadata": {
  "kernelspec": {
   "display_name": "Python 2",
   "language": "python",
   "name": "python2"
  },
  "language_info": {
   "codemirror_mode": {
    "name": "ipython",
    "version": 2
   },
   "file_extension": ".py",
   "mimetype": "text/x-python",
   "name": "python",
   "nbconvert_exporter": "python",
   "pygments_lexer": "ipython2",
   "version": "2.7.9"
  }
 },
 "nbformat": 4,
 "nbformat_minor": 0
}
