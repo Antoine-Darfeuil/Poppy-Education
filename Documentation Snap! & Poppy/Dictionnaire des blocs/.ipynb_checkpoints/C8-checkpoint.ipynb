{
 "cells": [
  {
   "cell_type": "markdown",
   "metadata": {
    "collapsed": true
   },
   "source": [
    "### C8 : Arrêter l'enregistrement du mouvement \n",
    "<img src=\"image/Dico/stop-record-move.png\" alt=\"Blablabla\" style=\"height: 25px;\"/>\n",
    "\n",
    "---\n",
    "**_Help :_**\n",
    "Stop recording the desired move record.<br />\n",
    "_Be careful_, you may previously defined a move record with the \"creat move .. with motor(s) ...\" block.\n",
    "\n",
    "---\n",
    "** _Aide :_ ** \n",
    "Permet d'arrêter l'enregistrement du mouvement commencé.<br/>\n",
    "Attention : Il faut au préalable créer un nouveau mouvement avec le bloc \"create move\", qui permet notamment de définir les moteurs avec lesquels on souhaite travailler, avant de pouvoir enregistrer un mouvement.<br/>\n",
    "Voir l'aide dédié au mouvement par démonstration : [Mouvement par démonstration](http://google.com)"
   ]
  },
  {
   "cell_type": "code",
   "execution_count": null,
   "metadata": {
    "collapsed": true
   },
   "outputs": [],
   "source": []
  }
 ],
 "metadata": {
  "kernelspec": {
   "display_name": "Python 2",
   "language": "python",
   "name": "python2"
  },
  "language_info": {
   "codemirror_mode": {
    "name": "ipython",
    "version": 2
   },
   "file_extension": ".py",
   "mimetype": "text/x-python",
   "name": "python",
   "nbconvert_exporter": "python",
   "pygments_lexer": "ipython2",
   "version": "2.7.9"
  }
 },
 "nbformat": 4,
 "nbformat_minor": 0
}
