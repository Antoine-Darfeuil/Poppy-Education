{
 "cells": [
  {
   "cell_type": "markdown",
   "metadata": {
    "collapsed": true
   },
   "source": [
    "### C1 :  Réinitialiser la simulation v-rep - Réinitialiser la connection _Poppy-Snap!_\n",
    "<img src=\"image/Dico/reset-simulation.png\" alt=\"Blablabla\" style=\"height: 25px;\"/>\n",
    "\n",
    "**_Help :_**\n",
    "Reset the simulation in V-rep.\n",
    "It is usefull if you have connection issues with v-rep.\n",
    "\n",
    "** _Aide :_ ** \n",
    "Cette instruction permet de réinitialiser la simulation. Elle est utile pour revenir à zéro après une mauvaise manipulation ou en cas de problème de connexions."
   ]
  }
 ],
 "metadata": {
  "kernelspec": {
   "display_name": "Python 2",
   "language": "python",
   "name": "python2"
  },
  "language_info": {
   "codemirror_mode": {
    "name": "ipython",
    "version": 2
   },
   "file_extension": ".py",
   "mimetype": "text/x-python",
   "name": "python",
   "nbconvert_exporter": "python",
   "pygments_lexer": "ipython2",
   "version": "2.7.9"
  }
 },
 "nbformat": 4,
 "nbformat_minor": 0
}
