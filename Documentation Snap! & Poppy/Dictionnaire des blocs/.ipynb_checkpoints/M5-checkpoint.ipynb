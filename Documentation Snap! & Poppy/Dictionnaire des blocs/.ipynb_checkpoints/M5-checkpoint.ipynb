{
 "cells": [
  {
   "cell_type": "markdown",
   "metadata": {
    "collapsed": true
   },
   "source": [
    "### M5 : Permet de jouer concurremment (en même temps) les mouvements enregistrés donnés\n",
    "<img src=\"image/Dico/concurent.png\" alt=\"M3\" style=\"height: 20px;\"/>\n",
    "**_Help :_** All reports input are run concurently. <br />\n",
    "You can use this block to play concurently many recorded move.\n",
    "\n",
    "** _Aide :_ ** \n",
    "Ce bloc permet de jouer concurremment (en même temps) plusieurs enregistrements de mouvements données en entrée."
   ]
  },
  {
   "cell_type": "code",
   "execution_count": null,
   "metadata": {
    "collapsed": true
   },
   "outputs": [],
   "source": []
  }
 ],
 "metadata": {
  "kernelspec": {
   "display_name": "Python 2",
   "language": "python",
   "name": "python2"
  },
  "language_info": {
   "codemirror_mode": {
    "name": "ipython",
    "version": 2
   },
   "file_extension": ".py",
   "mimetype": "text/x-python",
   "name": "python",
   "nbconvert_exporter": "python",
   "pygments_lexer": "ipython2",
   "version": "2.7.9"
  }
 },
 "nbformat": 4,
 "nbformat_minor": 0
}
