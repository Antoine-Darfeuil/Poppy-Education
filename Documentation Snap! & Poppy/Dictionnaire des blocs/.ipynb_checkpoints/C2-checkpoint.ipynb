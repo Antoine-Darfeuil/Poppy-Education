{
 "cells": [
  {
   "cell_type": "markdown",
   "metadata": {
    "collapsed": true
   },
   "source": [
    "### C2 : Rendre le ou les moteurs compliant (ou non-compliant)\n",
    "\n",
    "<img src=\"image/Dico/set-motor-compliant.png\" alt=\"Blablabla\" style=\"height: 25px;\"/>\n",
    "\n",
    "---\n",
    "**_Help :_**\n",
    "Compliance property make motors activity become soft and movable.\n",
    "You need to activate the compliance if you want to record a movement by demonstration.\n",
    "\n",
    "The motor(s) input can accept : \n",
    "- string of a motor name\n",
    "- string of many motors separed with spaces\n",
    "- a Snap! list of motors like the reporter block “robot all motors”\n",
    "\n",
    "---\n",
    "** _Aide :_ ** \n",
    "Cette instruction permet de rendre les moteurs indiqués compliant (ou non-compliant). Les moteurs “compliant” sont libres (non bloqués) et peuvent donc être manipulés sans efforts. Les moteurs non-compliant sont à l’invers bloqués dans la position qu’ils occupent ; c’est le mode par défaut lorsque le _robot Poppy_ est allumé.\n",
    "\n",
    "\n",
    "L’entrée de ce bloque peut être :\n",
    "- le nom d’un moteur\n",
    "- plusieurs noms de moteurs séparés par un “espace”\n",
    "- une liste snap! de noms de moteurs \n",
    "\n",
    "** Remarque importante : ** \n",
    "si rien n’est spécifié pour le nom des moteurs, l’instruction s’applique à tous les moteurs du robot.\n",
    "\n",
    "** Utilisation : ** \n",
    "Il est nécessaire d'utiliser cette instruction pour manipuler le robot Poppy sans endommager les moteurs. En particulier : il est nécessaire de rendre “compliant” les moteurs avec lesquels on souhaite travailler pour enregistrer des mouvements par démonstration."
   ]
  },
  {
   "cell_type": "code",
   "execution_count": null,
   "metadata": {
    "collapsed": true
   },
   "outputs": [],
   "source": []
  }
 ],
 "metadata": {
  "kernelspec": {
   "display_name": "Python 2",
   "language": "python",
   "name": "python2"
  },
  "language_info": {
   "codemirror_mode": {
    "name": "ipython",
    "version": 2
   },
   "file_extension": ".py",
   "mimetype": "text/x-python",
   "name": "python",
   "nbconvert_exporter": "python",
   "pygments_lexer": "ipython2",
   "version": "2.7.9"
  }
 },
 "nbformat": 4,
 "nbformat_minor": 0
}
