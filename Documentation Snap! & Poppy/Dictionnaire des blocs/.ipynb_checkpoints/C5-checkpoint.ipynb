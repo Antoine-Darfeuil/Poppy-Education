{
 "cells": [
  {
   "cell_type": "markdown",
   "metadata": {
    "collapsed": true
   },
   "source": [
    "### C5 : Definir le registre du moteur donné\n",
    "<img src=\"image/Dico/set-motor-register-to.png\" alt=\"Blablabla\" style=\"height: 25px;\"/>\n",
    "\n",
    "---\n",
    "**_Help :_**\n",
    "Set a defined < value > to a defined < register > of one or many motors.<br />\n",
    "Exemple of some registers : torque_limit, angle_limit, safe_compliant, compliant,...<br />\n",
    "For more information about registers, look at the online documentation : [pypot documentation](http://poppy-project.github.io/pypot/)\n",
    "\n",
    "The motor(s) input can accept : \n",
    "- string of motor name\n",
    "- string of many motores separed with spaces\n",
    "- a snap! liste of motors like the reporter block “robot all motors”\n",
    "\n",
    "---\n",
    "** _Aide :_ ** \n",
    "Permet de définit la valeur du registre demandé sur le moteur donné.<br/>\n",
    "Exemple de registres disponibles : torque_limit (limite du couple), present_temperature (temperature actuelle), present_position (position actuelle), ... <br/>\n",
    "Pour plus d'information sur les registre, confère la documentation en ligne : [pypot documentation](http://poppy-project.github.io/pypot/)\n",
    "\n",
    "L’entrée de ce bloque peut être :\n",
    "- le nom d’un moteur\n",
    "- plusieurs noms de moteurs séparés par un “espace”\n",
    "- une liste snap! de noms de moteurs "
   ]
  }
 ],
 "metadata": {
  "kernelspec": {
   "display_name": "Python 2",
   "language": "python",
   "name": "python2"
  },
  "language_info": {
   "codemirror_mode": {
    "name": "ipython",
    "version": 2
   },
   "file_extension": ".py",
   "mimetype": "text/x-python",
   "name": "python",
   "nbconvert_exporter": "python",
   "pygments_lexer": "ipython2",
   "version": "2.7.9"
  }
 },
 "nbformat": 4,
 "nbformat_minor": 0
}
