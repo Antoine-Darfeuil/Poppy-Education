{
 "cells": [
  {
   "cell_type": "markdown",
   "metadata": {
    "collapsed": true
   },
   "source": [
    "### C3 : Mettre le ou les moteurs à la position \n",
    "\n",
    "<img src=\"image/Dico/motor-go-to-position.png\" alt=\"Blablabla\" style=\"height: 25px;\"/>\n",
    "\n",
    "---\n",
    "** _Help :_ ** \n",
    "Set motor to the desired position (angle) in the desired time.\n",
    "\n",
    "The motor(s) input can accept : \n",
    "- string of motor name\n",
    "- string of many motores separed with spaces\n",
    "- a snap! lis of motors like the reporter block “robot all motors”\n",
    "\n",
    "---\n",
    "** _Aide :_ ** \n",
    "C’est la commande principale pour contrôler les mouvements de Poppy.\n",
    "Cette instruction permet de contrôler le moteur (ou les moteurs) indiqués via une indication de position à atteindre, en précisant le temps pour accomplir cette action. \n",
    "La position est un angle (en degrée) correspondant à position donnée autour de l’axe de rotation du moteur. (voir fiche moteurs)\n",
    "\n",
    "L’entrée de ce bloque peut être :\n",
    "- le nom d’un moteur\n",
    "- plusieurs noms de moteurs séparés par un “espace”\n",
    "- une liste snap! de noms de moteurs \n",
    "\n",
    "** Utilisation : ** \n",
    "Par défaut : le mouvements s'exécute en 0 secondes. Cependant les mouvements sont alors très brutaux et saccadés. Un temps de 2 secondes est très raisonnable en pratique\n"
   ]
  },
  {
   "cell_type": "code",
   "execution_count": null,
   "metadata": {
    "collapsed": true
   },
   "outputs": [],
   "source": []
  }
 ],
 "metadata": {
  "kernelspec": {
   "display_name": "Python 2",
   "language": "python",
   "name": "python2"
  },
  "language_info": {
   "codemirror_mode": {
    "name": "ipython",
    "version": 2
   },
   "file_extension": ".py",
   "mimetype": "text/x-python",
   "name": "python",
   "nbconvert_exporter": "python",
   "pygments_lexer": "ipython2",
   "version": "2.7.9"
  }
 },
 "nbformat": 4,
 "nbformat_minor": 0
}
