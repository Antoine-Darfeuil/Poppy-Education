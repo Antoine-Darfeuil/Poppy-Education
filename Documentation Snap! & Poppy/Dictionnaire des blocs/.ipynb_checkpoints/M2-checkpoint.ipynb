{
 "cells": [
  {
   "cell_type": "markdown",
   "metadata": {
    "collapsed": true
   },
   "source": [
    "### M2 : Joue le mouvement entré à la vitesse donnée\n",
    "<img src=\"image/Dico/play-move-speed.png\" alt=\"M1\" style=\"height: 20px;\"/>\n",
    "**_Help :_** Play the movement of a previous recorded move.<br />\n",
    "The < record_name > input is the name of a *.record* filename which should be in the same directory where you started the web server (with the command \"robot-snap robot-ergo\" for example).\n",
    "\n",
    "You can change the play speed with the < speed > input.\n",
    "\n",
    "\n",
    "** _Aide :_ ** \n",
    "Ce bloc permet de jouer l'enregistrement du mouvement demandé à la vistesse spécifié via l'entrée < speed >. <br/>\n",
    "Le nom de l'enregistrement que l'on souhaite jouer est celui d'un fichier .record qui doit être placé dans le même repertoire que celui ou le serveur web a été initié.<br/>"
   ]
  },
  {
   "cell_type": "code",
   "execution_count": null,
   "metadata": {
    "collapsed": true
   },
   "outputs": [],
   "source": []
  }
 ],
 "metadata": {
  "kernelspec": {
   "display_name": "Python 2",
   "language": "python",
   "name": "python2"
  },
  "language_info": {
   "codemirror_mode": {
    "name": "ipython",
    "version": 2
   },
   "file_extension": ".py",
   "mimetype": "text/x-python",
   "name": "python",
   "nbconvert_exporter": "python",
   "pygments_lexer": "ipython2",
   "version": "2.7.9"
  }
 },
 "nbformat": 4,
 "nbformat_minor": 0
}
