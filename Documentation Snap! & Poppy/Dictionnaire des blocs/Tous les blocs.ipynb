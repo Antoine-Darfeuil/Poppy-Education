{
 "cells": [
  {
   "cell_type": "markdown",
   "metadata": {},
   "source": [
    "# Tous les blocs _Poppy_ ! \n",
    "####_ou_ \n",
    "## _De l'admiration désintéressée des blocs_\n",
    "\n",
    "* Les blocs de type *Reporters* : \n",
    "<img src=\"image/Dico/motors-from-alias.png\" alt=\"Blablabla\" style=\"height: 15x;\"/>\n",
    "<img src=\"image/Dico/all-motors.png\" alt=\"Blablabla\" style=\"height: 15px;\"/>\n",
    "<img src=\"image/Dico/get-motor-present-position.png\" alt=\"Blablabla\" style=\"height: 15x;\"/>\n",
    "<img src=\"image/Dico/get-motor-register.png\" alt=\"Blablabla\" style=\"height: 15x;\"/>\n",
    "<img src=\"image/Dico/index-of-motor.png\" alt=\"Blablabla\" style=\"height: 15x;\"/>\n",
    "<img src=\"image/Dico/server.png\" alt=\"Blablabla\" style=\"height: 15x;\"/>\n",
    "<img src=\"image/Dico/all-records.png\" alt=\"Blablabla\" style=\"height: 15x;\"/>\n",
    "<img src=\"image/Dico/get-all-primitives.png\" alt=\"Blablabla\" style=\"height: 15px;\"/>\n",
    "<img src=\"image/Dico/all-aliases.png\" alt=\"Blablabla\" style=\"height: 15px;\"/>\n",
    "<img src=\"image/Dico/test-connection.png\" alt=\"Blablabla\" style=\"height: 15px;\"/>\n",
    "<img src=\"image/Dico/get-methodes-of-primitive.png\" alt=\"Blablabla\" style=\"height: 15px;\"/>\n",
    "<img src=\"image/Dico/play-move-speed.png\" alt=\"Blablabla\" style=\"height: 15px;\"/>\n",
    "<img src=\"image/Dico/sequential.png\" alt=\"Blablabla\" style=\"height: 15px;\"/>\n",
    "<img src=\"image/Dico/concurent.png\" alt=\"Blablabla\" style=\"height: 15px;\"/>\n",
    "<img src=\"image/Dico/play-concurently-moves.png\" alt=\"Blablabla\" style=\"height: 15px;\"/>\n",
    "<img src=\"image/Dico/play-sequentialy-moves.png\" alt=\"Blablabla\" style=\"height: 15px;\"/>\n",
    "<img src=\"image/Dico/play-in-reverse-move-speed.png\" alt=\"Blablabla\" style=\"height: 15px;\"/>\n",
    "* * * * * \n",
    "* Les blocs de type *Commands* :\n",
    "<img src=\"image/Dico/set-motor-compliant.png\" alt=\"Blablabla\" style=\"height: 20px;\"/>\n",
    "<img src=\"image/Dico/motor-go-to-position.png\" alt=\"Blablabla\" style=\"height: 20px;\"/>\n",
    "<img src=\"image/Dico/reset-simulation.png\" alt=\"Blablabla\" style=\"height: 20px;\"/>\n",
    "<img src=\"image/Dico/set-motor-register-to.png\" alt=\"Blablabla\" style=\"height: 20px;\"/>\n",
    "<img src=\"image/Dico/start-record.png\" alt=\"Blablabla\" style=\"height: 20px;\"/>\n",
    "<img src=\"image/Dico/creat-move-with-motor.png\" alt=\"Blablabla\" style=\"height: 20px;\"/>\n",
    "<img src=\"image/Dico/stop-record-move.png\" alt=\"Blablabla\" style=\"height: 20px;\"/>\n",
    "<img src=\"image/Dico/stop-play-move.png\" alt=\"Blablabla\" style=\"height: 20px;\"/>\n",
    "<img src=\"image/Dico/start-primitive.png\" alt=\"Blablabla\" style=\"height: 20px;\"/>\n",
    "\n"
   ]
  }
 ],
 "metadata": {
  "kernelspec": {
   "display_name": "Python 2",
   "language": "python",
   "name": "python2"
  },
  "language_info": {
   "codemirror_mode": {
    "name": "ipython",
    "version": 2
   },
   "file_extension": ".py",
   "mimetype": "text/x-python",
   "name": "python",
   "nbconvert_exporter": "python",
   "pygments_lexer": "ipython2",
   "version": "2.7.9"
  }
 },
 "nbformat": 4,
 "nbformat_minor": 0
}
