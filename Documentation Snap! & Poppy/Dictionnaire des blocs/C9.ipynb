{
 "cells": [
  {
   "cell_type": "markdown",
   "metadata": {
    "collapsed": true
   },
   "source": [
    "### C9 : Arrêter de jouer le mouvement en cours\n",
    "<img src=\"image/Dico/stop-play-move.png\" alt=\"Blablabla\" style=\"height: 25px;\"/>\n",
    "**_Help :_** _void_\n",
    "\n",
    "\n",
    "** _Aide :_ ** \n",
    "Ce bloc permet d'arréter la lecture de l'enregistrement en cours."
   ]
  }
 ],
 "metadata": {
  "kernelspec": {
   "display_name": "Python 2",
   "language": "python",
   "name": "python2"
  },
  "language_info": {
   "codemirror_mode": {
    "name": "ipython",
    "version": 2
   },
   "file_extension": ".py",
   "mimetype": "text/x-python",
   "name": "python",
   "nbconvert_exporter": "python",
   "pygments_lexer": "ipython2",
   "version": "2.7.9"
  }
 },
 "nbformat": 4,
 "nbformat_minor": 0
}
