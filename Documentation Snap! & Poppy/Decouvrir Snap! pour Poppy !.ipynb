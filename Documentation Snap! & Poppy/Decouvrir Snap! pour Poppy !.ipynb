{
 "cells": [
  {
   "cell_type": "markdown",
   "metadata": {},
   "source": [
    "<img src=\"../Images/Poppy_Bandeau_Snap.png\" alt=\"Logo Poppy + Snap!\" style=\"height: 130px;\"/>"
   ]
  },
  {
   "cell_type": "markdown",
   "metadata": {},
   "source": [
    "# Decouvrir Snap! pour _Poppy_ \n",
    "\n",
    "_Ici_ on découvre _Snap!_ en français ! <br/>\n",
    "L'objectif de ce document est d'expliquer quelques notions de base pour les personnes ne connaissant pas snap!."
   ]
  },
  {
   "cell_type": "markdown",
   "metadata": {},
   "source": [
    "---\n",
    "# Sommaire\n",
    "<a href=\"Decouvrir Snap! pour Poppy - 1. Introduction.ipynb\"> 1. Introduction - Qu'est ce que Snap! </a> <br />\n",
    "<a href=\"Decouvrir Snap! pour poppy - 2. Prise en main de Snap!.ipynb\"> 2. Prise en main de Snap! </a> <br />\n",
    "<a href=\"Decouvrir Snap! pour Poppy - 3. La programmation par blocs.ipynb\"> 3. La programmation par blocs </a> <br />\n",
    "<a href=\"Decouvrir Snap! pour Poppy - 4. Snap! pour découvrir la robotique avec Poppy.ipynb\"> 4. Snap! pour découvrir la robotique avec Poppy </a> <br />\n",
    "\n",
    "#### Ressources :\n",
    "<a href=\"Decouvrir Snap! pour Poppy - Ressources.ipynb\">A - Découvrir Snap! en vidéos </a> <br />"
   ]
  },
  {
   "cell_type": "markdown",
   "metadata": {
    "collapsed": true
   },
   "source": [
    "---\n",
    "\n",
    "## Liens utiles :\n",
    "\n",
    "* Site web officiel de Snap! (Université de Berkeley) : [Snap.berkeley.edu](http://snap.berkeley.edu/)\n",
    "* Lancer Snap! _(en ligne)_ : [Run Snap now !](http://snap.berkeley.edu/snapsource/snap.html)\n",
    "* Lancer un projet Snap! _(en ligne)_ avec les blocs _robot Poppy_ : [Run Snap for Poppy now !](http://snap.berkeley.edu/snapsource/snap.html#open:https://raw.githubusercontent.com/poppy-project/pypot/master/pypot/server/pypot-snap-blocks.xml)\n",
    "\n",
    "** Avancés :**\n",
    "* Le dépo GitHub officiel de Snap! (Jens Mönig) : [Snap! sources](https://github.com/jmoenig/Snap--Build-Your-Own-Blocks)\n",
    "* Le fichier Snap! _(xml)_ des blocs _robot Poppy_ _(à télécharger)_ : [Blocs _robot Poppy_](https://raw.githubusercontent.com/poppy-project/pypot/master/pypot/server/pypot-snap-blocks.xml)\n",
    "\n",
    "#### Snap! ressources en _langue française_ :\n",
    "\n",
    "* Le présent document (unique ressource Snap! en français connue à ce jour ) **[Français]** : <a href=\"https://github.com/Antoine-Darfeuil/Poppy-Education/tree/master/Documentation%20Snap!%20%26%20Poppy\"> Accéder au dépo GitHub </a>\n",
    "* Un site pour se familiariser avec _Scratch_ **[Français]** : [Scratch 1.4 Guide de référence](http://scratchfr.free.fr/k1n8g7/RGfinalAugust2209/translate_p.html)\n",
    "* Section aide du site officiel de _Scratch_ **[Anglais/Français]** : [Aide Scratch](https://scratch.mit.edu/help/)\n",
    "\n",
    "\n",
    "\n",
    "\n",
    "#### Snap! ressources en _langue anglaise_ :\n",
    "\n",
    "\n",
    "* Un précédent notebook Inria **[Anglais]** : [How-To: Control a PoppyCreature using the visual programming language Snap! (a variant of Scratch)](http://nbviewer.ipython.org/github/poppy-project/pypot/blob/master/samples/notebooks/Controlling%2520a%2520Poppy%2520Creature%2520using%2520SNAP.ipynb)\n",
    "\n",
    "* Le **manuel de référence** Snap! (Brian Harvey, Jens Mönig) **[Anglais]** : [Snap! Reference Manual](http://snap.berkeley.edu/SnapManual.pdf)\n",
    "\n",
    "* Apprendre la programmation avec Snap! dans le supérieur (Université de Berkeley) **[anglais]** : [Beauty and Joy of Computing (BJC) Curriculum](http://bjc.berkeley.edu/website/curriculum.html)"
   ]
  }
 ],
 "metadata": {
  "kernelspec": {
   "display_name": "Python 2",
   "language": "python",
   "name": "python2"
  },
  "language_info": {
   "codemirror_mode": {
    "name": "ipython",
    "version": 2
   },
   "file_extension": ".py",
   "mimetype": "text/x-python",
   "name": "python",
   "nbconvert_exporter": "python",
   "pygments_lexer": "ipython2",
   "version": "2.7.9"
  }
 },
 "nbformat": 4,
 "nbformat_minor": 0
}
