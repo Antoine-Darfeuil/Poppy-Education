{
 "cells": [
  {
   "cell_type": "markdown",
   "metadata": {},
   "source": [
    "<img src=\"../Images/Poppy_Bandeau_Snap.png\" alt=\"Logo Poppy + Snap!\" style=\"height: 130px;\"/>\n",
    "# Découvrir Snap! en vidéos "
   ]
  },
  {
   "cell_type": "markdown",
   "metadata": {},
   "source": [
    "---\n",
    "### Voir sur YouTube : \n",
    "\n",
    "* [(YouTube) Vidéo 1 : Découverte de Snap!](https://www.youtube.com/watch?v=MbyYEPeo9mw&feature=youtu.be)\n",
    "* [(YouTube) Vidéo 2 : Snap! pour _Poppy_ ](https://www.youtube.com/watch?v=-SGL4hd_sBo)\n",
    "\n"
   ]
  },
  {
   "cell_type": "markdown",
   "metadata": {},
   "source": [
    "---\n",
    "# Vidéo 1 : Découverte de Snap!"
   ]
  },
  {
   "cell_type": "code",
   "execution_count": 7,
   "metadata": {
    "collapsed": false
   },
   "outputs": [
    {
     "data": {
      "text/html": [
       "\n",
       "<iframe width=\"720\" height=\"480\"\n",
       "src=\"http://www.youtube.com/embed/MbyYEPeo9mw\">\n",
       "</iframe>\n"
      ],
      "text/plain": [
       "<IPython.core.display.HTML object>"
      ]
     },
     "execution_count": 7,
     "metadata": {},
     "output_type": "execute_result"
    }
   ],
   "source": [
    "from IPython.display import HTML\n",
    "HTML(\"\"\"\n",
    "<iframe width=\"720\" height=\"480\"\n",
    "src=\"http://www.youtube.com/embed/MbyYEPeo9mw\">\n",
    "</iframe>\n",
    "\"\"\")"
   ]
  },
  {
   "cell_type": "markdown",
   "metadata": {},
   "source": [
    "---\n",
    "# Vidéo 2 : Snap! pour _Poppy_"
   ]
  },
  {
   "cell_type": "code",
   "execution_count": 8,
   "metadata": {
    "collapsed": false
   },
   "outputs": [
    {
     "data": {
      "text/html": [
       "\n",
       "<iframe width=\"720\" height=\"480\"\n",
       "src=\"http://www.youtube.com/embed/-SGL4hd_sBo\">\n",
       "</iframe>\n"
      ],
      "text/plain": [
       "<IPython.core.display.HTML object>"
      ]
     },
     "execution_count": 8,
     "metadata": {},
     "output_type": "execute_result"
    }
   ],
   "source": [
    "from IPython.display import HTML\n",
    "HTML(\"\"\"\n",
    "<iframe width=\"720\" height=\"480\"\n",
    "src=\"http://www.youtube.com/embed/-SGL4hd_sBo\">\n",
    "</iframe>\n",
    "\"\"\")\n",
    "\n",
    "\n"
   ]
  }
 ],
 "metadata": {
  "kernelspec": {
   "display_name": "Python 2",
   "language": "python",
   "name": "python2"
  },
  "language_info": {
   "codemirror_mode": {
    "name": "ipython",
    "version": 2
   },
   "file_extension": ".py",
   "mimetype": "text/x-python",
   "name": "python",
   "nbconvert_exporter": "python",
   "pygments_lexer": "ipython2",
   "version": "2.7.9"
  }
 },
 "nbformat": 4,
 "nbformat_minor": 0
}
