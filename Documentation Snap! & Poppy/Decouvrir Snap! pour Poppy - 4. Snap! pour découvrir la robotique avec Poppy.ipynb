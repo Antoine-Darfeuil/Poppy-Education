{
 "cells": [
  {
   "cell_type": "markdown",
   "metadata": {},
   "source": [
    "# 4. Utilisation de Snap! pour découvrir la robotique avec Poppy\n",
    "\n",
    "##  Introduction\n",
    "\n",
    "<!-- _où l'on explique la potentialité de Snap! avec Poppy_\n",
    "_où l'on explique les différentes oportunités possibles_\n",
    "**comment utiliser poppy et snap! pour découvrir la robotique, la programmation et plus encore ... [EXPLIQUE]**\n",
    "-->\n",
    "\n",
    "A partir de cette partie, on s'interesse plus spécifiquement à l'utilisation de Snap! pour controler le robot _Poppy_. <br />\n",
    "\n",
    "Grace à ses fonctionnalités, des blocs Snap! spécifiques à _Poppy_ ont été écris.\n",
    "Il est ainsi possible de s'initier\n",
    "\n",
    "\n",
    "\n",
    "## 1.  Pour démarrer\n",
    "\n",
    "\n",
    "## 2. Programmer les mouvements de Poppy - (*Blocs de base*) :\n",
    "## 3. Les mouvement par démonstration - _(Enregistrer et rejouer des mouvements)_\n",
    "## 4. Exploiter les primitives\n",
    "## 5. Des exemples d'applications"
   ]
  }
 ],
 "metadata": {
  "kernelspec": {
   "display_name": "Python 2",
   "language": "python",
   "name": "python2"
  },
  "language_info": {
   "codemirror_mode": {
    "name": "ipython",
    "version": 2
   },
   "file_extension": ".py",
   "mimetype": "text/x-python",
   "name": "python",
   "nbconvert_exporter": "python",
   "pygments_lexer": "ipython2",
   "version": "2.7.9"
  }
 },
 "nbformat": 4,
 "nbformat_minor": 0
}
