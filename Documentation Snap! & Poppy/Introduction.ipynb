{
 "cells": [
  {
   "cell_type": "markdown",
   "metadata": {},
   "source": [
    "<img src=\"../Images/Poppy-colors_2.png\" alt=\"Logo Poppy + Snap!\" style=\"height: 500px;\"/>"
   ]
  },
  {
   "cell_type": "markdown",
   "metadata": {},
   "source": [
    "# Documentation simple et accessible à tous\n",
    "\n",
    "Le but de cette documentation est d'expliquer un certain nombre de notions autour de Poppy, pour __l'éducation__.<br />\n",
    "Elle s'adresse _en particulier_ aux **personnes novices dans l'utilisation de Snap!** et **non familères avec la robotique ou la programmation**.<br />\n",
    "\n",
    "\n",
    "* <a href=\"Lexique.ipynb\"> Lexique du jargon utilisé </a>\n",
    "* <a href=\"Decouvrir Snap! pour Poppy !.ipynb\"> Décrouvir Snap! pour Poppy </a>\n",
    "* <a href=\"Dictionnaire des blocs/Dictionnaire des blocs Snap! pour Poppy.ipynb\"> Dictionnaire des blocs Snap! pour Poppy </a>\n",
    "\n",
    "\n",
    "\n"
   ]
  }
 ],
 "metadata": {
  "kernelspec": {
   "display_name": "Python 2",
   "language": "python",
   "name": "python2"
  },
  "language_info": {
   "codemirror_mode": {
    "name": "ipython",
    "version": 2
   },
   "file_extension": ".py",
   "mimetype": "text/x-python",
   "name": "python",
   "nbconvert_exporter": "python",
   "pygments_lexer": "ipython2",
   "version": "2.7.9"
  }
 },
 "nbformat": 4,
 "nbformat_minor": 0
}
