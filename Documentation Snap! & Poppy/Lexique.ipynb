{
 "cells": [
  {
   "cell_type": "markdown",
   "metadata": {},
   "source": [
    "## Lexique \n",
    "\n",
    "**- C -**\n",
    "* **Compliant** (_anglicisme_) : accommodant, docile. Traduit le fait que les moteurs soient libres (non bloqués) et puissent être manipulés sans efforts. Contraire : non-compliant\n",
    "\n",
    "* **Concurent :**\n",
    "\n",
    "**- L -**\n",
    "* **Listes :**\n",
    "* **Librairie :**\n",
    "\n",
    "**- P -**\n",
    "* **Primitive :** ensemble de commandes envoyer aux moteurs de façon périodique ou non.\n",
    "\n",
    "**- S -**\n",
    "* **Séquentiel : **\n",
    "\n",
    "**- V -**\n",
    "* **Variables :**"
   ]
  }
 ],
 "metadata": {
  "kernelspec": {
   "display_name": "Python 2",
   "language": "python",
   "name": "python2"
  },
  "language_info": {
   "codemirror_mode": {
    "name": "ipython",
    "version": 2
   },
   "file_extension": ".py",
   "mimetype": "text/x-python",
   "name": "python",
   "nbconvert_exporter": "python",
   "pygments_lexer": "ipython2",
   "version": "2.7.9"
  }
 },
 "nbformat": 4,
 "nbformat_minor": 0
}
