{
 "cells": [
  {
   "cell_type": "markdown",
   "metadata": {},
   "source": [
    "<a href=\"http://robotmakersday.fr/\"> <img src=\"images/logo_RMD.jpg\" style=\"height: 100px;\"> </a>\n",
    "\n",
    "<h1 style=\"text-align:center ; font-size:150% ; font-family:futura\" > Atelier _Poppy_ pour la Robot Maker's Day - 13 juin 2015 </h1>\n",
    "\n",
    "\n",
    "\n",
    " \n",
    " ---\n",
    "\n",
    "<a href=\"http://www.sudouest.fr/2015/06/15/talence-retour-en-images-sur-le-robot-maker-s-day-1951914-4725.php\"> <img src=\"images/RMD_SudOuest.jpg\" alt=\"Article Sud Ouest - Robot Maker's Day\" style=\"height : 350px;\"> </a>\n",
    "\n",
    "\n",
    "\n",
    "---\n",
    "\n",
    "## Atelier\n",
    "\n",
    "* Realiser _**plusieurs mouvements**_ avec _Poppy Torso_ via _**Snap!**_\n",
    "* Découvrir l'enregistrement de _**mouvements par démonstration**_ avec les bras de _Poppy Torso_\n",
    "\n",
    "\n",
    "<table>\n",
    "\n",
    "    <tr>\n",
    "        \n",
    "        <td> <img src=\"images/Poppy_TN_salut.jpg\" style=\"height: 200px;\"> </td>\n",
    "        <td> <img src=\"images/Poppy_TN_calin.jpg\" style=\"height: 200px;\"> </td>\n",
    "        <td> <img src=\"images/Poppy_TN_ballon.jpg\" style=\"height: 200px;\"> </td> \n",
    "        \n",
    "    </tr>\n",
    "</table>\n",
    "\n",
    "<br />\n",
    "\n",
    "\n",
    "\n",
    "\n",
    "\n",
    "---\n",
    "## Ressources Atelier\n",
    "\n",
    "* Fiche nom des moteurs et fiche Snap! --> <a href\"https://github.com/Antoine-Darfeuil/Poppy-Education/tree/master/Images\">_ici_</a>"
   ]
  },
  {
   "cell_type": "code",
   "execution_count": null,
   "metadata": {
    "collapsed": true
   },
   "outputs": [],
   "source": []
  }
 ],
 "metadata": {
  "kernelspec": {
   "display_name": "Python 2",
   "language": "python",
   "name": "python2"
  },
  "language_info": {
   "codemirror_mode": {
    "name": "ipython",
    "version": 2
   },
   "file_extension": ".py",
   "mimetype": "text/x-python",
   "name": "python",
   "nbconvert_exporter": "python",
   "pygments_lexer": "ipython2",
   "version": "2.7.9"
  }
 },
 "nbformat": 4,
 "nbformat_minor": 0
}
